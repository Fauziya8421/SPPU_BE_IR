{
 "cells": [
  {
   "cell_type": "code",
   "execution_count": 11,
   "id": "70d58aba-fd8b-42b0-a240-4d0f9559b50f",
   "metadata": {},
   "outputs": [
    {
     "name": "stdout",
     "output_type": "stream",
     "text": [
      "\n",
      "--- Dynamic Input ---\n"
     ]
    },
    {
     "name": "stdin",
     "output_type": "stream",
     "text": [
      "Enter the number of nodes:  4\n"
     ]
    },
    {
     "name": "stdout",
     "output_type": "stream",
     "text": [
      "Enter the adjacency matrix (0 for no link, 1 for link):\n"
     ]
    },
    {
     "name": "stdin",
     "output_type": "stream",
     "text": [
      "Row 1:  0 1 1 0\n",
      "Row 2:  0 0 0 1\n",
      "Row 3:  1 1 0 1\n",
      "Row 4:  0 0 1 0 \n"
     ]
    },
    {
     "name": "stdout",
     "output_type": "stream",
     "text": [
      "PageRank has converged after 21 iterations.\n",
      "Node 1: 0.1387\n",
      "Node 2: 0.1976\n",
      "Node 3: 0.3571\n",
      "Node 4: 0.3066\n",
      "\n",
      "Highest rank page: Node 3 with score: 0.3571\n"
     ]
    }
   ],
   "source": [
    "import numpy as np\n",
    "\n",
    "def calculate_pagerank(adjacency_matrix, damping_factor=0.85, max_iterations=1000, tolerance=1e-6):\n",
    "    num_nodes = adjacency_matrix.shape[0]\n",
    "    pagerank = np.ones(num_nodes) / num_nodes  # Initialize PageRank scores\n",
    "\n",
    "    # Handle dangling nodes by replacing any zero rows with uniform probabilities\n",
    "    row_sums = adjacency_matrix.sum(axis=1)\n",
    "    for i in range(num_nodes):\n",
    "        if row_sums[i] == 0:\n",
    "            adjacency_matrix[i] = np.ones(num_nodes) / num_nodes  # Redistribute equally\n",
    "\n",
    "    for _ in range(max_iterations):\n",
    "        # Calculate new PageRank scores\n",
    "        new_pagerank = (1 - damping_factor) / num_nodes + damping_factor * np.dot(adjacency_matrix.T, pagerank / row_sums)\n",
    "        \n",
    "        # Check for convergence\n",
    "        if np.linalg.norm(new_pagerank - pagerank, ord=1) < tolerance:\n",
    "            print(f\"PageRank has converged after {_+1} iterations.\")\n",
    "            break\n",
    "        pagerank = new_pagerank\n",
    "\n",
    "    return pagerank\n",
    "\n",
    "# Dynamic adjacency matrix input\n",
    "print(\"\\n--- Dynamic Input ---\")\n",
    "rows = int(input(\"Enter the number of nodes: \"))\n",
    "adjacency_matrix = np.zeros((rows, rows))\n",
    "print(\"Enter the adjacency matrix (0 for no link, 1 for link):\")\n",
    "for i in range(rows):\n",
    "    adjacency_matrix[i] = list(map(int, input(f\"Row {i + 1}: \").split()))\n",
    "\n",
    "# Calculate and print PageRank scores for the user-defined adjacency matrix\n",
    "pagerank_scores = calculate_pagerank(adjacency_matrix)\n",
    "for i, score in enumerate(pagerank_scores):\n",
    "    print(f\"Node {i + 1}: {score:.4f}\")\n",
    "\n",
    "# Identify and display the highest ranked page\n",
    "high_rank_page = np.argmax(pagerank_scores)\n",
    "high_rank_score = pagerank_scores[high_rank_page]\n",
    "print(f'\\nHighest rank page: Node {high_rank_page + 1} with score: {high_rank_score:.4f}')\n"
   ]
  },
  {
   "cell_type": "code",
   "execution_count": null,
   "id": "1284f508-abca-47f1-8886-49a13f04bee7",
   "metadata": {},
   "outputs": [],
   "source": []
  }
 ],
 "metadata": {
  "kernelspec": {
   "display_name": "Python 3 (ipykernel)",
   "language": "python",
   "name": "python3"
  },
  "language_info": {
   "codemirror_mode": {
    "name": "ipython",
    "version": 3
   },
   "file_extension": ".py",
   "mimetype": "text/x-python",
   "name": "python",
   "nbconvert_exporter": "python",
   "pygments_lexer": "ipython3",
   "version": "3.12.4"
  }
 },
 "nbformat": 4,
 "nbformat_minor": 5
}
