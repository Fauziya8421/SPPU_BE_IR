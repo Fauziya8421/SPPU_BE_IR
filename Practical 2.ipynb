{
 "cells": [
  {
   "cell_type": "code",
   "execution_count": 397,
   "id": "81efe2b2-16f8-4caa-9b44-20cab4ed4dc6",
   "metadata": {},
   "outputs": [],
   "source": [
    "import requests\n",
    "from bs4 import BeautifulSoup\n",
    "import pandas as pd"
   ]
  },
  {
   "cell_type": "code",
   "execution_count": 425,
   "id": "f7e9dca7-1d89-4b82-b853-a490ac2109a0",
   "metadata": {},
   "outputs": [],
   "source": [
    "def crawl(url):\n",
    "    headers = {\n",
    "        \"user-agent\":\"Mozilla/5.0\"\n",
    "    }\n",
    "    response = requests.get(url,headers=headers)\n",
    "    soup = BeautifulSoup(response.text,'html.parser')\n",
    "\n",
    "    product = []\n",
    "    price = []\n",
    "    rating = []\n",
    "\n",
    "    p_name = soup.find_all('span' , class_=\"a-size-base-plus a-color-base a-text-normal\")\n",
    "    p_price = soup.find_all('span' ,class_=\"a-price-whole\")\n",
    "    p_rating = soup.find_all('span' , class_=\"a-size-base s-underline-text\")\n",
    "\n",
    "    for i in p_name:\n",
    "        product.append(i.text)\n",
    "\n",
    "    for i in p_price:\n",
    "        product.append(i.text)\n",
    "\n",
    "    for i in p_rating:\n",
    "        product.append(i.text)\n",
    "\n",
    "    max_len = max(len(product), len(price), len(rating))\n",
    "    product.extend(['N/A'] * (max_len - len(product)))\n",
    "    price.extend(['N/A'] * (max_len - len(price)))\n",
    "    rating.extend(['N/A'] * (max_len - len(rating)))\n",
    "\n",
    "    df = pd.DataFrame({'Product' : product , 'Price' : price , 'Rating' : rating})\n",
    "    return df"
   ]
  },
  {
   "cell_type": "code",
   "execution_count": 427,
   "id": "fcf3c553-8855-4057-9b17-4513f05209e6",
   "metadata": {},
   "outputs": [],
   "source": [
    "df = crawl(\"https://www.amazon.in/s?i=electronics&bbn=976419031&rh=n%3A6294306031&ref=mega_elec_s23_1_2_1_2\")"
   ]
  },
  {
   "cell_type": "code",
   "execution_count": 429,
   "id": "b39aed37-85e2-4b3f-9748-8cfe5b6daf6a",
   "metadata": {},
   "outputs": [],
   "source": [
    "df.to_csv('amazon.csv')"
   ]
  },
  {
   "cell_type": "code",
   "execution_count": 441,
   "id": "54dcc00f-3c51-4957-bc48-5b5800ee631a",
   "metadata": {},
   "outputs": [],
   "source": [
    "def image_carwl(url):\n",
    "    headers = {\n",
    "        \"user-agent\":\"Mozilla/5.0\"\n",
    "    }\n",
    "    response = requests.get(url,headers=headers)\n",
    "    soup = BeautifulSoup(response.text,'html.parser')\n",
    "\n",
    "    image = []\n",
    "    im_data = soup.find_all('img' ,class_=\"s-image\")\n",
    "\n",
    "    for i in im_data:\n",
    "        image.append(i.get('src'))\n",
    "    return image"
   ]
  },
  {
   "cell_type": "code",
   "execution_count": 431,
   "id": "fbba4040-a551-46c7-b2d9-862b199c489c",
   "metadata": {},
   "outputs": [],
   "source": [
    "import os "
   ]
  },
  {
   "cell_type": "code",
   "execution_count": 437,
   "id": "080e86cb-ec38-4c82-9d08-f737ec460359",
   "metadata": {},
   "outputs": [],
   "source": [
    "os.makedirs(\"amazon\" , exist_ok=True)"
   ]
  },
  {
   "cell_type": "code",
   "execution_count": 443,
   "id": "07fa816a-dd6c-4bfd-8aee-5afe51b40543",
   "metadata": {},
   "outputs": [],
   "source": [
    "img = image_carwl(\"https://www.amazon.in/s?i=electronics&bbn=976419031&rh=n%3A6294306031&ref=mega_elec_s23_1_2_1_2\")\n",
    "i=0 \n",
    "for url in img:\n",
    "    try:\n",
    "        rep = requests.get(url)\n",
    "        with open(f\"amazon/{i}.jpg\" , 'wb') as f:\n",
    "            f.write(rep.content)\n",
    "        i+=1\n",
    "    except:\n",
    "        pass"
   ]
  }
 ],
 "metadata": {
  "kernelspec": {
   "display_name": "Python 3 (ipykernel)",
   "language": "python",
   "name": "python3"
  },
  "language_info": {
   "codemirror_mode": {
    "name": "ipython",
    "version": 3
   },
   "file_extension": ".py",
   "mimetype": "text/x-python",
   "name": "python",
   "nbconvert_exporter": "python",
   "pygments_lexer": "ipython3",
   "version": "3.12.4"
  }
 },
 "nbformat": 4,
 "nbformat_minor": 5
}
