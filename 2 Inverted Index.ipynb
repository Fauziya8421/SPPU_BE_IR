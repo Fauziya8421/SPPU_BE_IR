{
 "cells": [
  {
   "cell_type": "code",
   "execution_count": 3,
   "id": "bbf11460-07ad-49fe-8b32-5533125efe1e",
   "metadata": {},
   "outputs": [],
   "source": [
    "import nltk\n",
    "from nltk.corpus import stopwords\n",
    "from nltk.tokenize import word_tokenize\n",
    "from string import punctuation "
   ]
  },
  {
   "cell_type": "code",
   "execution_count": 4,
   "id": "183e2ef6-7a34-4136-ba76-422ae34a3c38",
   "metadata": {},
   "outputs": [
    {
     "name": "stderr",
     "output_type": "stream",
     "text": [
      "[nltk_data] Downloading package stopwords to\n",
      "[nltk_data]     C:\\Users\\lenovo\\AppData\\Roaming\\nltk_data...\n",
      "[nltk_data]   Package stopwords is already up-to-date!\n",
      "[nltk_data] Downloading package punkt to\n",
      "[nltk_data]     C:\\Users\\lenovo\\AppData\\Roaming\\nltk_data...\n",
      "[nltk_data]   Package punkt is already up-to-date!\n"
     ]
    },
    {
     "data": {
      "text/plain": [
       "True"
      ]
     },
     "execution_count": 4,
     "metadata": {},
     "output_type": "execute_result"
    }
   ],
   "source": [
    "# Download NLTK stopwords and tokenizer if not already done\n",
    "nltk.download('stopwords')\n",
    "nltk.download('punkt')"
   ]
  },
  {
   "cell_type": "code",
   "execution_count": 5,
   "id": "b9ce7a2c-e7f4-4da9-ba4e-5bda09b85fba",
   "metadata": {},
   "outputs": [],
   "source": [
    "# Define the documents\n",
    "doc1 = \"Hello sonu how are you. sonu is good boy\".lower()\n",
    "doc2 = \"Ram is good boy\".lower()\n",
    "doc3 = \"The quick brown fox jumps over the lazy dog\".lower()\n",
    "doc4 = \"A good boy is always polite and well-behaved\".lower()"
   ]
  },
  {
   "cell_type": "code",
   "execution_count": 6,
   "id": "044a9690-6464-4eb7-a624-064874150060",
   "metadata": {},
   "outputs": [],
   "source": [
    "# Tokenize the documents\n",
    "doc1_tokens = word_tokenize(doc1)\n",
    "doc2_tokens = word_tokenize(doc2)\n",
    "doc3_tokens = word_tokenize(doc3)\n",
    "doc4_tokens = word_tokenize(doc4)"
   ]
  },
  {
   "cell_type": "code",
   "execution_count": 8,
   "id": "c4cf5ec9-ccb9-43ca-8b2f-774fcdbf0a09",
   "metadata": {},
   "outputs": [],
   "source": [
    "# Combine tokens into a corpus\n",
    "corpus = set(doc1_tokens + doc2_tokens + doc3_tokens + doc4_tokens)"
   ]
  },
  {
   "cell_type": "code",
   "execution_count": 10,
   "id": "a2a640ee-8cd4-4eb9-b109-2605bb9faef0",
   "metadata": {},
   "outputs": [],
   "source": [
    "# Define stop words and punctuation to filter out\n",
    "clist = set(list(stopwords.words('english') + list(punctuation)))"
   ]
  },
  {
   "cell_type": "code",
   "execution_count": 12,
   "id": "69b14742-4f91-4fe3-abf6-6f40d9aad1e0",
   "metadata": {},
   "outputs": [],
   "source": [
    "# Remove punctuation and stop words from the corpus\n",
    "filtered_corpus = [word for word in corpus if word.isalnum() and word not in clist]"
   ]
  },
  {
   "cell_type": "code",
   "execution_count": 22,
   "id": "3e67498e-0ff5-4f84-93be-2b4e5aac0224",
   "metadata": {},
   "outputs": [],
   "source": [
    "# Create the inverted index\n",
    "inverted_index = {}\n",
    "documents = [doc1_tokens, doc2_tokens, doc3_tokens, doc4_tokens]\n",
    "doc_names = [\"D1\", \"D2\", \"D3\", \"D4\"]"
   ]
  },
  {
   "cell_type": "code",
   "execution_count": 24,
   "id": "750d18ed-f930-4edf-8471-1048d34d0e69",
   "metadata": {},
   "outputs": [],
   "source": [
    "for word in filtered_corpus:\n",
    "    cnt = 0\n",
    "    doc_list = []\n",
    "    for idx, doc in enumerate(documents):\n",
    "        doc_count = doc.count(word)\n",
    "        if doc_count > 0:\n",
    "            cnt += doc_count\n",
    "            doc_list.append(doc_names[idx])\n",
    "    inverted_index[word] = f\"{word} -> ({doc_list}, {cnt})\""
   ]
  },
  {
   "cell_type": "code",
   "execution_count": 26,
   "id": "4878c7ec-61b4-45c5-b410-f66d0d8185e4",
   "metadata": {},
   "outputs": [
    {
     "name": "stdout",
     "output_type": "stream",
     "text": [
      "Inverted Index:\n",
      "quick -> (['D3'], 1)\n",
      "hello -> (['D1'], 1)\n",
      "boy -> (['D1', 'D2', 'D4'], 3)\n",
      "always -> (['D4'], 1)\n",
      "jumps -> (['D3'], 1)\n",
      "fox -> (['D3'], 1)\n",
      "lazy -> (['D3'], 1)\n",
      "ram -> (['D2'], 1)\n",
      "dog -> (['D3'], 1)\n",
      "good -> (['D1', 'D2', 'D4'], 3)\n",
      "brown -> (['D3'], 1)\n",
      "sonu -> (['D1'], 2)\n",
      "polite -> (['D4'], 1)\n"
     ]
    }
   ],
   "source": [
    "# Display the Inverted Index\n",
    "print(\"Inverted Index:\")\n",
    "for key, value in inverted_index.items():\n",
    "    print(value)"
   ]
  },
  {
   "cell_type": "code",
   "execution_count": 28,
   "id": "14fe32e7-f2b7-4bc8-8eba-3d2307ca3351",
   "metadata": {},
   "outputs": [],
   "source": [
    "# Define a function to search for a word in the inverted index ---- optional \n",
    "def search_word(word):\n",
    "    word = word.lower()\n",
    "    if word in inverted_index:\n",
    "        return inverted_index[word]\n",
    "    else:\n",
    "        return f\"{word} not found in the index.\""
   ]
  },
  {
   "cell_type": "code",
   "execution_count": 30,
   "id": "8856e426-3c89-4784-b6f8-dc700e6cd5c2",
   "metadata": {},
   "outputs": [
    {
     "name": "stdout",
     "output_type": "stream",
     "text": [
      "\n",
      "Search Results:\n",
      "good -> (['D1', 'D2', 'D4'], 3)\n",
      "boy -> (['D1', 'D2', 'D4'], 3)\n",
      "polit not found in the index.\n"
     ]
    }
   ],
   "source": [
    "# Test the search function\n",
    "print(\"\\nSearch Results:\")\n",
    "print(search_word(\"good\"))\n",
    "print(search_word(\"boy\"))\n",
    "print(search_word(\"polit\"))"
   ]
  },
  {
   "cell_type": "code",
   "execution_count": null,
   "id": "7402784f-a099-4c4a-96f6-38f5f6b91544",
   "metadata": {},
   "outputs": [],
   "source": []
  }
 ],
 "metadata": {
  "kernelspec": {
   "display_name": "Python 3 (ipykernel)",
   "language": "python",
   "name": "python3"
  },
  "language_info": {
   "codemirror_mode": {
    "name": "ipython",
    "version": 3
   },
   "file_extension": ".py",
   "mimetype": "text/x-python",
   "name": "python",
   "nbconvert_exporter": "python",
   "pygments_lexer": "ipython3",
   "version": "3.12.4"
  }
 },
 "nbformat": 4,
 "nbformat_minor": 5
}
