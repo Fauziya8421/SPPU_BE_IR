{
 "cells": [
  {
   "cell_type": "markdown",
   "id": "afef1c7b",
   "metadata": {},
   "source": [
    "flow \n",
    "1) preprocessing\n",
    "2) spam-ham \n",
    "3) inverted index\n",
    "4) page rangking algo \n",
    "5) web scraping { text , image , links , rating , video, music} "
   ]
  },
  {
   "cell_type": "markdown",
   "id": "4b907389",
   "metadata": {},
   "source": [
    "Implement a program for retrieval of documents using inverted files\n",
    "1) doc d1 ,d2 , d3 , d4\n",
    "2) user query\n",
    "3) dict creation \n",
    "4) remove puncations\n",
    "5) convert number into words\n",
    "6) lower wording \n",
    "7) tokanizing\n",
    "8) token t1 ,t2, t3, t4\n",
    "9) output t1 -> d1 ,d2 similar \n"
   ]
  },
  {
   "cell_type": "code",
   "execution_count": 2,
   "id": "8ab07eca",
   "metadata": {},
   "outputs": [
    {
     "name": "stdout",
     "output_type": "stream",
     "text": [
      "Collecting num2wordsNote: you may need to restart the kernel to use updated packages.\n",
      "\n",
      "  Obtaining dependency information for num2words from https://files.pythonhosted.org/packages/8f/f0/ca1228af2bcbce2fdf2b23d58643c84253b88a3c1cd9dba391ca683c4b21/num2words-0.5.13-py3-none-any.whl.metadata\n",
      "  Downloading num2words-0.5.13-py3-none-any.whl.metadata (12 kB)\n",
      "Collecting docopt>=0.6.2 (from num2words)\n",
      "  Downloading docopt-0.6.2.tar.gz (25 kB)\n",
      "  Preparing metadata (setup.py): started\n",
      "  Preparing metadata (setup.py): finished with status 'done'\n",
      "Downloading num2words-0.5.13-py3-none-any.whl (143 kB)\n",
      "   ---------------------------------------- 0.0/143.3 kB ? eta -:--:--\n",
      "   -------- ------------------------------ 30.7/143.3 kB 660.6 kB/s eta 0:00:01\n",
      "   ------------------------------- -------- 112.6/143.3 kB 1.3 MB/s eta 0:00:01\n",
      "   ---------------------------------------- 143.3/143.3 kB 1.2 MB/s eta 0:00:00\n",
      "Building wheels for collected packages: docopt\n",
      "  Building wheel for docopt (setup.py): started\n",
      "  Building wheel for docopt (setup.py): finished with status 'done'\n",
      "  Created wheel for docopt: filename=docopt-0.6.2-py2.py3-none-any.whl size=13775 sha256=9d54d84cedca13482ba24c4a748fd4e42b0e237fcf827f40481b7f61928a7729\n",
      "  Stored in directory: c:\\users\\lenovo\\appdata\\local\\pip\\cache\\wheels\\1a\\b0\\8c\\4b75c4116c31f83c8f9f047231251e13cc74481cca4a78a9ce\n",
      "Successfully built docopt\n",
      "Installing collected packages: docopt, num2words\n",
      "Successfully installed docopt-0.6.2 num2words-0.5.13\n"
     ]
    }
   ],
   "source": [
    "pip install num2words\n"
   ]
  },
  {
   "cell_type": "code",
   "execution_count": 6,
   "id": "a9b940b3",
   "metadata": {},
   "outputs": [],
   "source": [
    "import re\n",
    "from collections import defaultdict\n",
    "from num2words import num2words  # num2words is a package to convert numbers to words\n"
   ]
  },
  {
   "cell_type": "code",
   "execution_count": 7,
   "id": "736720c1",
   "metadata": {},
   "outputs": [],
   "source": [
    "\n",
    "# Sample documents\n",
    "documents = {\n",
    "    'd1': \"The price of the car is 20000 dollars.\",\n",
    "    'd2': \"I have 2 cats and 1 dog.\",\n",
    "    'd3': \"Python is a great programming language.\",\n",
    "    'd4': \"He won the race by 5 seconds.\"\n",
    "}\n"
   ]
  },
  {
   "cell_type": "code",
   "execution_count": 8,
   "id": "44f033bf",
   "metadata": {},
   "outputs": [],
   "source": [
    "\n",
    "# Preprocessing function\n",
    "def preprocess(text):\n",
    "    # Remove punctuation\n",
    "    text = re.sub(r'[^\\w\\s]', '', text)\n",
    "    # Convert numbers to words\n",
    "    text = re.sub(r'\\d+', lambda x: num2words(x.group()), text)\n",
    "    # Convert to lowercase\n",
    "    text = text.lower()\n",
    "    # Tokenize\n",
    "    tokens = text.split()\n",
    "    return tokens\n"
   ]
  },
  {
   "cell_type": "code",
   "execution_count": 9,
   "id": "8d9b3c35",
   "metadata": {},
   "outputs": [],
   "source": [
    "\n",
    "# Create the inverted index\n",
    "inverted_index = defaultdict(list)\n",
    "for doc_id, content in documents.items():\n",
    "    tokens = preprocess(content)\n",
    "    for token in tokens:\n",
    "        if doc_id not in inverted_index[token]:\n",
    "            inverted_index[token].append(doc_id)\n",
    "\n",
    "# # Display the inverted index\n",
    "# for token, doc_ids in inverted_index.items():\n",
    "#     print(f\"{token} -> {', '.join(doc_ids)}\")\n"
   ]
  },
  {
   "cell_type": "code",
   "execution_count": 12,
   "id": "2311d633",
   "metadata": {},
   "outputs": [
    {
     "name": "stdout",
     "output_type": "stream",
     "text": [
      "Enter your query: five\n",
      "Documents containing the query terms: d4\n"
     ]
    }
   ],
   "source": [
    "# User query\n",
    "query = input(\"Enter your query: \")\n",
    "query_tokens = preprocess(query)\n",
    "\n",
    "# Find documents matching the query tokens\n",
    "result_docs = set()\n",
    "for token in query_tokens:\n",
    "    if token in inverted_index:\n",
    "        result_docs.update(inverted_index[token])\n",
    "\n",
    "# Display the result documents\n",
    "print(f\"Documents containing the query terms: {', '.join(result_docs) if result_docs else 'None'}\")"
   ]
  },
  {
   "cell_type": "code",
   "execution_count": null,
   "id": "2114b84d",
   "metadata": {},
   "outputs": [],
   "source": []
  }
 ],
 "metadata": {
  "kernelspec": {
   "display_name": "Python 3 (ipykernel)",
   "language": "python",
   "name": "python3"
  },
  "language_info": {
   "codemirror_mode": {
    "name": "ipython",
    "version": 3
   },
   "file_extension": ".py",
   "mimetype": "text/x-python",
   "name": "python",
   "nbconvert_exporter": "python",
   "pygments_lexer": "ipython3",
   "version": "3.11.5"
  }
 },
 "nbformat": 4,
 "nbformat_minor": 5
}
