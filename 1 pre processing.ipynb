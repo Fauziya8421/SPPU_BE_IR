{
 "cells": [
  {
   "cell_type": "code",
   "execution_count": 1,
   "id": "523c4f18-0c98-4c13-a13b-ab40c7ea817a",
   "metadata": {},
   "outputs": [],
   "source": [
    "import nltk\n",
    "from nltk.corpus import stopwords\n",
    "from nltk.tokenize import word_tokenize\n",
    "from nltk.stem import PorterStemmer\n",
    "from string import punctuation"
   ]
  },
  {
   "cell_type": "code",
   "execution_count": 2,
   "id": "a9c8ba76-24d8-4c28-8bc3-8ed9c20a707f",
   "metadata": {},
   "outputs": [
    {
     "name": "stderr",
     "output_type": "stream",
     "text": [
      "[nltk_data] Downloading package stopwords to\n",
      "[nltk_data]     C:\\Users\\lenovo\\AppData\\Roaming\\nltk_data...\n",
      "[nltk_data]   Package stopwords is already up-to-date!\n",
      "[nltk_data] Downloading package punkt to\n",
      "[nltk_data]     C:\\Users\\lenovo\\AppData\\Roaming\\nltk_data...\n",
      "[nltk_data]   Package punkt is already up-to-date!\n"
     ]
    },
    {
     "data": {
      "text/plain": [
       "True"
      ]
     },
     "execution_count": 2,
     "metadata": {},
     "output_type": "execute_result"
    }
   ],
   "source": [
    "# Download the required NLTK datasets\n",
    "nltk.download('stopwords')\n",
    "nltk.download('punkt')"
   ]
  },
  {
   "cell_type": "code",
   "execution_count": 36,
   "id": "f2757cca-4931-4840-b535-5627a7ee0617",
   "metadata": {},
   "outputs": [],
   "source": [
    "# Sample text\n",
    "text = \"\"\"\n",
    "This 5 is an example of text preprocessing. \n",
    "We will remove7 stop words and perform stemming to reduce words to their root form.\n",
    "\"\"\""
   ]
  },
  {
   "cell_type": "code",
   "execution_count": 38,
   "id": "f5620788-25c1-4dc1-9d1a-279057306cec",
   "metadata": {},
   "outputs": [],
   "source": [
    "import re\n",
    "remove_num = re.sub(\"[0-9]\" , \"\" , text) #remove the num in the test\n"
   ]
  },
  {
   "cell_type": "code",
   "execution_count": 40,
   "id": "54901372-ae6b-4c68-8700-cf3e2317cdff",
   "metadata": {},
   "outputs": [
    {
     "data": {
      "text/plain": [
       "'\\nThis  is an example of text preprocessing. \\nWe will remove stop words and perform stemming to reduce words to their root form.\\n'"
      ]
     },
     "execution_count": 40,
     "metadata": {},
     "output_type": "execute_result"
    }
   ],
   "source": [
    "remove_num"
   ]
  },
  {
   "cell_type": "code",
   "execution_count": 32,
   "id": "d44099a1-0f2f-40a7-974c-9eb1817c9ab4",
   "metadata": {},
   "outputs": [
    {
     "data": {
      "text/plain": [
       "\"Hello, I am done. I'm 20 years old.\""
      ]
     },
     "execution_count": 32,
     "metadata": {},
     "output_type": "execute_result"
    }
   ],
   "source": [
    "def remove_whitespace(text):\n",
    "    return \" \".join(text.split())\n",
    "\n",
    "input_str = \"Hello, I am      done. I'm 20 years old.\"\n",
    "remove_whitespace(input_str)"
   ]
  },
  {
   "cell_type": "code",
   "execution_count": 30,
   "id": "acff12a8-af51-42bd-b36b-cda19674aab1",
   "metadata": {},
   "outputs": [
    {
     "data": {
      "text/plain": [
       "['this',\n",
       " 'is',\n",
       " 'an',\n",
       " 'example',\n",
       " 'of',\n",
       " 'text',\n",
       " 'preprocessing',\n",
       " '.',\n",
       " 'we',\n",
       " 'will',\n",
       " 'remove',\n",
       " 'stop',\n",
       " 'words',\n",
       " 'and',\n",
       " 'perform',\n",
       " 'stemming',\n",
       " 'to',\n",
       " 'reduce',\n",
       " 'words',\n",
       " 'to',\n",
       " 'their',\n",
       " 'root',\n",
       " 'form',\n",
       " '.']"
      ]
     },
     "execution_count": 30,
     "metadata": {},
     "output_type": "execute_result"
    }
   ],
   "source": [
    "# 1. Tokenization\n",
    "tokens = word_tokenize(remove_num.lower())\n",
    "tokens"
   ]
  },
  {
   "cell_type": "code",
   "execution_count": 8,
   "id": "7741e82e-7fc2-4393-8304-94307d612b1c",
   "metadata": {},
   "outputs": [],
   "source": [
    "# 2. Stop Word Removal\n",
    "stop_words = set(list(stopwords.words('english') + list(punctuation)))\n",
    "filtered_tokens = [word for word in tokens if word.isalnum() and word not in stop_words]"
   ]
  },
  {
   "cell_type": "code",
   "execution_count": 11,
   "id": "82d38b2c-ef68-4085-9616-16c13fd8395a",
   "metadata": {},
   "outputs": [],
   "source": [
    "# 3. Stemming\n",
    "stemmer = PorterStemmer()\n",
    "stemmed_tokens = [stemmer.stem(word) for word in filtered_tokens]\n"
   ]
  },
  {
   "cell_type": "code",
   "execution_count": 13,
   "id": "3f81a1c5-7997-4230-b118-f24210d8a6bd",
   "metadata": {},
   "outputs": [],
   "source": [
    "from nltk.stem import WordNetLemmatizer\n",
    "lem = WordNetLemmatizer()\n",
    "lem_word = [lem.lemmatize(word) for word in filtered_tokens]"
   ]
  },
  {
   "cell_type": "code",
   "execution_count": 42,
   "id": "409b3d57-2053-4ae7-9dd6-37136f6e25f3",
   "metadata": {},
   "outputs": [
    {
     "data": {
      "text/plain": [
       "['example',\n",
       " 'text',\n",
       " 'preprocessing',\n",
       " 'remove',\n",
       " 'stop',\n",
       " 'word',\n",
       " 'perform',\n",
       " 'stemming',\n",
       " 'reduce',\n",
       " 'word',\n",
       " 'root',\n",
       " 'form']"
      ]
     },
     "execution_count": 42,
     "metadata": {},
     "output_type": "execute_result"
    }
   ],
   "source": [
    "lem_word"
   ]
  },
  {
   "cell_type": "code",
   "execution_count": 23,
   "id": "175369c6-6ee0-4edd-a83c-f05a06cc1da1",
   "metadata": {},
   "outputs": [
    {
     "name": "stdout",
     "output_type": "stream",
     "text": [
      "Original Text: \n",
      "This is an example of text preprocessing. \n",
      "We will remove stop words and perform stemming to reduce words to their root form.\n",
      "\n",
      "Filtered Tokens: ['example', 'text', 'preprocessing', 'remove', 'stop', 'words', 'perform', 'stemming', 'reduce', 'words', 'root', 'form']\n",
      "\n",
      "Stemmed Tokens: ['exampl', 'text', 'preprocess', 'remov', 'stop', 'word', 'perform', 'stem', 'reduc', 'word', 'root', 'form']\n"
     ]
    }
   ],
   "source": [
    "# Output the result\n",
    "print(\"Original Text:\", text)\n",
    "print(\"Filtered Tokens:\", filtered_tokens)\n",
    "print()\n",
    "print(\"Stemmed Tokens:\", stemmed_tokens)"
   ]
  },
  {
   "cell_type": "code",
   "execution_count": null,
   "id": "88c7feb3-cce3-4d6b-87df-f818b6e0b1c4",
   "metadata": {},
   "outputs": [],
   "source": []
  }
 ],
 "metadata": {
  "kernelspec": {
   "display_name": "Python 3 (ipykernel)",
   "language": "python",
   "name": "python3"
  },
  "language_info": {
   "codemirror_mode": {
    "name": "ipython",
    "version": 3
   },
   "file_extension": ".py",
   "mimetype": "text/x-python",
   "name": "python",
   "nbconvert_exporter": "python",
   "pygments_lexer": "ipython3",
   "version": "3.12.4"
  }
 },
 "nbformat": 4,
 "nbformat_minor": 5
}
